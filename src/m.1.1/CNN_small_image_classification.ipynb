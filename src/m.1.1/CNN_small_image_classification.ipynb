{
 "cells": [
  {
   "cell_type": "code",
   "execution_count": 1,
   "id": "df897e55-93ce-40b1-a5df-58ef4d710da1",
   "metadata": {
    "ExecuteTime": {
     "end_time": "2025-05-06T11:53:29.281153Z",
     "start_time": "2025-05-06T11:53:29.274366Z"
    }
   },
   "outputs": [],
   "source": [
    "import tensorflow as tf\n",
    "from tensorflow.keras import datasets, layers, models\n",
    "import matplotlib.pyplot as plt\n",
    "import numpy as np"
   ]
  },
  {
   "cell_type": "code",
   "execution_count": 2,
   "id": "5688c52d-a39c-454f-801f-0726283e32d1",
   "metadata": {
    "ExecuteTime": {
     "end_time": "2025-05-06T11:53:30.429125Z",
     "start_time": "2025-05-06T11:53:29.306383Z"
    }
   },
   "outputs": [
    {
     "data": {
      "text/plain": [
       "(50000, 32, 32, 3)"
      ]
     },
     "execution_count": 2,
     "metadata": {},
     "output_type": "execute_result"
    }
   ],
   "source": [
    "(X_train, y_train), (X_test, y_test) = datasets.cifar10.load_data()\n",
    "X_train.shape"
   ]
  },
  {
   "cell_type": "code",
   "execution_count": 3,
   "id": "da241956-7688-4391-bdef-16b2ae4626c4",
   "metadata": {
    "ExecuteTime": {
     "end_time": "2025-05-06T11:53:30.453321Z",
     "start_time": "2025-05-06T11:53:30.450143Z"
    }
   },
   "outputs": [
    {
     "data": {
      "text/plain": [
       "(10000, 32, 32, 3)"
      ]
     },
     "execution_count": 3,
     "metadata": {},
     "output_type": "execute_result"
    }
   ],
   "source": [
    "X_test.shape"
   ]
  },
  {
   "cell_type": "code",
   "execution_count": 4,
   "id": "b7476efd-726b-4e52-a730-44e147d3dc7c",
   "metadata": {
    "ExecuteTime": {
     "end_time": "2025-05-06T11:53:30.467632Z",
     "start_time": "2025-05-06T11:53:30.465485Z"
    }
   },
   "outputs": [
    {
     "data": {
      "text/plain": [
       "(50000, 1)"
      ]
     },
     "execution_count": 4,
     "metadata": {},
     "output_type": "execute_result"
    }
   ],
   "source": [
    "y_train.shape"
   ]
  },
  {
   "cell_type": "code",
   "execution_count": 5,
   "id": "fdabfff0-8d23-4fbf-93e9-2a9ebac6e466",
   "metadata": {
    "ExecuteTime": {
     "end_time": "2025-05-06T11:53:30.486767Z",
     "start_time": "2025-05-06T11:53:30.484095Z"
    }
   },
   "outputs": [
    {
     "data": {
      "text/plain": [
       "array([[6],\n",
       "       [9],\n",
       "       [9],\n",
       "       [4],\n",
       "       [1]], dtype=uint8)"
      ]
     },
     "execution_count": 5,
     "metadata": {},
     "output_type": "execute_result"
    }
   ],
   "source": [
    "y_train[:5]"
   ]
  },
  {
   "cell_type": "code",
   "execution_count": 6,
   "id": "2b553171-b67b-4625-8f76-0a94d1fbec8d",
   "metadata": {
    "ExecuteTime": {
     "end_time": "2025-05-06T11:53:30.524556Z",
     "start_time": "2025-05-06T11:53:30.521823Z"
    }
   },
   "outputs": [
    {
     "data": {
      "text/plain": [
       "array([6, 9, 9, 4, 1], dtype=uint8)"
      ]
     },
     "execution_count": 6,
     "metadata": {},
     "output_type": "execute_result"
    }
   ],
   "source": [
    "y_train = y_train.reshape(-1,)\n",
    "y_train[:5]"
   ]
  },
  {
   "cell_type": "code",
   "execution_count": 7,
   "id": "42eb75b9-603e-48e7-93ae-3153adf6d662",
   "metadata": {
    "ExecuteTime": {
     "end_time": "2025-05-06T11:53:30.559129Z",
     "start_time": "2025-05-06T11:53:30.556892Z"
    }
   },
   "outputs": [
    {
     "data": {
      "text/plain": [
       "array([6, 9, 9, 4, 1], dtype=uint8)"
      ]
     },
     "execution_count": 7,
     "metadata": {},
     "output_type": "execute_result"
    }
   ],
   "source": [
    "y_train = y_train.reshape(-1,)\n",
    "y_train[:5]"
   ]
  },
  {
   "cell_type": "code",
   "execution_count": 8,
   "id": "de85910f-7bc4-47d0-b738-c5d3eab20358",
   "metadata": {
    "ExecuteTime": {
     "end_time": "2025-05-06T11:53:30.582623Z",
     "start_time": "2025-05-06T11:53:30.580754Z"
    }
   },
   "outputs": [],
   "source": [
    "y_test = y_test.reshape(-1,)"
   ]
  },
  {
   "cell_type": "code",
   "execution_count": 9,
   "id": "f1e32e0b-df8d-4890-a8c0-dfc14a2f63e1",
   "metadata": {
    "ExecuteTime": {
     "end_time": "2025-05-06T11:53:30.597283Z",
     "start_time": "2025-05-06T11:53:30.595549Z"
    }
   },
   "outputs": [],
   "source": [
    "classes = [\"airplane\", \"automobile\", \"bird\", \"cat\", \"deer\", \"dog\", \"frog\", \"horses\", \"ship\", \"truck\"]"
   ]
  },
  {
   "cell_type": "code",
   "execution_count": 10,
   "id": "13c07c0f-9c5f-4fca-9174-0cca0579c669",
   "metadata": {
    "ExecuteTime": {
     "end_time": "2025-05-06T11:53:30.608577Z",
     "start_time": "2025-05-06T11:53:30.606669Z"
    }
   },
   "outputs": [],
   "source": [
    "def plt_sample(X,y, index):\n",
    "    plt.figure(figsize = (15,2))\n",
    "    plt.imshow(X[index])\n",
    "    plt.xlabel(classes[y[index]])\n",
    "    plt.xlabel(classes[y[index]])"
   ]
  },
  {
   "cell_type": "code",
   "execution_count": 11,
   "id": "9b328f1d-e198-4de6-b846-fec8bdc6d63b",
   "metadata": {
    "ExecuteTime": {
     "end_time": "2025-05-06T11:53:30.655675Z",
     "start_time": "2025-05-06T11:53:30.617139Z"
    }
   },
   "outputs": [
    {
     "data": {
      "image/png": "[encoded data removed]",
      "text/plain": [
       "<Figure size 1500x200 with 1 Axes>"
      ]
     },
     "metadata": {},
     "output_type": "display_data"
    }
   ],
   "source": [
    "plt_sample(X_train, y_train, 0)"
   ]
  },
  {
   "cell_type": "code",
   "execution_count": 12,
   "id": "90f8c1c2-eaa5-494f-93b8-cd7b352b81ea",
   "metadata": {
    "ExecuteTime": {
     "end_time": "2025-05-06T11:53:30.870243Z",
     "start_time": "2025-05-06T11:53:30.664681Z"
    }
   },
   "outputs": [],
   "source": [
    "X_train = X_train/255\n",
    "X_test = X_test / 255"
   ]
  },
  {
   "cell_type": "code",
   "execution_count": 13,
   "id": "12deab71-7c3f-473f-8600-33080d2355b9",
   "metadata": {
    "ExecuteTime": {
     "end_time": "2025-05-06T11:54:56.623242Z",
     "start_time": "2025-05-06T11:53:30.885664Z"
    }
   },
   "outputs": [
    {
     "name": "stderr",
     "output_type": "stream",
     "text": [
      "/Users/nambanumben/Code/mtech/deep-learning/.venv/lib/python3.10/site-packages/keras/src/layers/reshaping/flatten.py:37: UserWarning: Do not pass an `input_shape`/`input_dim` argument to a layer. When using Sequential models, prefer using an `Input(shape)` object as the first layer in the model instead.\n",
      "  super().__init__(**kwargs)\n",
      "2025-06-15 23:54:14.223647: I metal_plugin/src/device/metal_device.cc:1154] Metal device set to: Apple M2 Pro\n",
      "2025-06-15 23:54:14.223751: I metal_plugin/src/device/metal_device.cc:296] systemMemory: 16.00 GB\n",
      "2025-06-15 23:54:14.223773: I metal_plugin/src/device/metal_device.cc:313] maxCacheSize: 5.33 GB\n",
      "2025-06-15 23:54:14.225201: I tensorflow/core/common_runtime/pluggable_device/pluggable_device_factory.cc:305] Could not identify NUMA node of platform GPU ID 0, defaulting to 0. Your kernel may not have been built with NUMA support.\n",
      "2025-06-15 23:54:14.225235: I tensorflow/core/common_runtime/pluggable_device/pluggable_device_factory.cc:271] Created TensorFlow device (/job:localhost/replica:0/task:0/device:GPU:0 with 0 MB memory) -> physical PluggableDevice (device: 0, name: METAL, pci bus id: <undefined>)\n"
     ]
    },
    {
     "name": "stdout",
     "output_type": "stream",
     "text": [
      "Epoch 1/5\n"
     ]
    },
    {
     "name": "stderr",
     "output_type": "stream",
     "text": [
      "2025-06-15 23:54:16.659097: I tensorflow/core/grappler/optimizers/custom_graph_optimizer_registry.cc:117] Plugin optimizer for device_type GPU is enabled.\n"
     ]
    },
    {
     "name": "stdout",
     "output_type": "stream",
     "text": [
      "\u001b[1m1563/1563\u001b[0m \u001b[32m━━━━━━━━━━━━━━━━━━━━\u001b[0m\u001b[37m\u001b[0m \u001b[1m13s\u001b[0m 7ms/step - accuracy: 0.2674 - loss: 2.0794\n",
      "Epoch 2/5\n",
      "\u001b[1m1563/1563\u001b[0m \u001b[32m━━━━━━━━━━━━━━━━━━━━\u001b[0m\u001b[37m\u001b[0m \u001b[1m11s\u001b[0m 7ms/step - accuracy: 0.3249 - loss: 1.9200\n",
      "Epoch 3/5\n",
      "\u001b[1m1563/1563\u001b[0m \u001b[32m━━━━━━━━━━━━━━━━━━━━\u001b[0m\u001b[37m\u001b[0m \u001b[1m11s\u001b[0m 7ms/step - accuracy: 0.2834 - loss: 2.3837\n",
      "Epoch 4/5\n",
      "\u001b[1m1563/1563\u001b[0m \u001b[32m━━━━━━━━━━━━━━━━━━━━\u001b[0m\u001b[37m\u001b[0m \u001b[1m11s\u001b[0m 7ms/step - accuracy: 0.2492 - loss: 3.3617\n",
      "Epoch 5/5\n",
      "\u001b[1m1563/1563\u001b[0m \u001b[32m━━━━━━━━━━━━━━━━━━━━\u001b[0m\u001b[37m\u001b[0m \u001b[1m11s\u001b[0m 7ms/step - accuracy: 0.2365 - loss: 4.3868\n"
     ]
    },
    {
     "data": {
      "text/plain": [
       "<keras.src.callbacks.history.History at 0x345b8d720>"
      ]
     },
     "execution_count": 13,
     "metadata": {},
     "output_type": "execute_result"
    }
   ],
   "source": [
    "ann = models.Sequential([\n",
    "    layers.Flatten(input_shape=(32,32,3)),\n",
    "    layers.Dense(3000, activation='relu'),\n",
    "    layers.Dense(1000, activation='relu'),\n",
    "    layers.Dense(10, activation='sigmoid')\n",
    "])\n",
    "\n",
    "ann.compile(optimizer='SGD',\n",
    "            loss='sparse_categorical_crossentropy',\n",
    "            metrics=['accuracy'])\n",
    "\n",
    "ann.fit(X_train, y_train, epochs=5)"
   ]
  },
  {
   "cell_type": "code",
   "execution_count": 14,
   "id": "0b6232b2-ab57-4bbe-b9a7-1a576f5e8505",
   "metadata": {
    "ExecuteTime": {
     "end_time": "2025-05-06T11:54:58.322493Z",
     "start_time": "2025-05-06T11:54:56.668593Z"
    }
   },
   "outputs": [
    {
     "name": "stdout",
     "output_type": "stream",
     "text": [
      "\u001b[1m313/313\u001b[0m \u001b[32m━━━━━━━━━━━━━━━━━━━━\u001b[0m\u001b[37m\u001b[0m \u001b[1m1s\u001b[0m 2ms/step\n",
      "Classificaion Report: \n",
      "               precision    recall  f1-score   support\n",
      "\n",
      "           0       0.53      0.14      0.22      1000\n",
      "           1       0.78      0.06      0.11      1000\n",
      "           2       0.24      0.27      0.25      1000\n",
      "           3       0.13      0.37      0.19      1000\n",
      "           4       0.00      0.00      0.00      1000\n",
      "           5       0.16      0.20      0.18      1000\n",
      "           6       0.39      0.11      0.17      1000\n",
      "           7       0.54      0.24      0.33      1000\n",
      "           8       0.21      0.56      0.30      1000\n",
      "           9       0.40      0.38      0.39      1000\n",
      "\n",
      "    accuracy                           0.23     10000\n",
      "   macro avg       0.34      0.23      0.21     10000\n",
      "weighted avg       0.34      0.23      0.21     10000\n",
      "\n"
     ]
    }
   ],
   "source": [
    "from sklearn.metrics import confusion_matrix, classification_report\n",
    "import numpy as np\n",
    "y_pred = ann.predict(X_test)\n",
    "y_pred_classes = [np.argmax(element) for element in y_pred]\n",
    "print(\"Classificaion Report: \\n\", classification_report(y_test, y_pred_classes))"
   ]
  },
  {
   "cell_type": "code",
   "execution_count": 15,
   "id": "e4ade8ba-154e-4f34-9a5a-f6dce83f97cb",
   "metadata": {
    "ExecuteTime": {
     "end_time": "2025-05-06T11:54:58.353008Z",
     "start_time": "2025-05-06T11:54:58.333277Z"
    }
   },
   "outputs": [
    {
     "name": "stderr",
     "output_type": "stream",
     "text": [
      "/Users/nambanumben/Code/mtech/deep-learning/.venv/lib/python3.10/site-packages/keras/src/layers/convolutional/base_conv.py:113: UserWarning: Do not pass an `input_shape`/`input_dim` argument to a layer. When using Sequential models, prefer using an `Input(shape)` object as the first layer in the model instead.\n",
      "  super().__init__(activity_regularizer=activity_regularizer, **kwargs)\n"
     ]
    }
   ],
   "source": [
    "cnn = models.Sequential([\n",
    "    layers.Conv2D(filters=32, kernel_size=(3, 3), activation='relu', input_shape=(32, 32, 3)),\n",
    "    layers.MaxPooling2D((2, 2)),\n",
    "\n",
    "    layers.Conv2D(filters=64, kernel_size=(3, 3), activation='relu'),\n",
    "    layers.MaxPooling2D((2, 2)),\n",
    "\n",
    "    layers.Flatten(),\n",
    "    layers.Dense(64, activation='relu'),\n",
    "    layers.Dense(10, activation='softmax')\n",
    "])"
   ]
  },
  {
   "cell_type": "code",
   "execution_count": 16,
   "id": "f4f58203-86b5-4ba2-a6ac-87710f218f7b",
   "metadata": {
    "ExecuteTime": {
     "end_time": "2025-05-06T11:54:58.372152Z",
     "start_time": "2025-05-06T11:54:58.368133Z"
    }
   },
   "outputs": [],
   "source": [
    "cnn.compile(optimizer = 'adam',\n",
    "            loss= 'sparse_categorical_crossentropy',\n",
    "            metrics=['accuracy'])"
   ]
  },
  {
   "cell_type": "code",
   "execution_count": 17,
   "id": "1346b0f9-8bdc-4680-8c6a-04e307137c69",
   "metadata": {
    "ExecuteTime": {
     "end_time": "2025-05-06T11:54:59.672743Z",
     "start_time": "2025-05-06T11:54:58.382998Z"
    }
   },
   "outputs": [
    {
     "name": "stdout",
     "output_type": "stream",
     "text": [
      "\u001b[1m313/313\u001b[0m \u001b[32m━━━━━━━━━━━━━━━━━━━━\u001b[0m\u001b[37m\u001b[0m \u001b[1m2s\u001b[0m 5ms/step - accuracy: 0.1321 - loss: 2.3138\n"
     ]
    },
    {
     "data": {
      "text/plain": [
       "[2.3151168823242188, 0.12960000336170197]"
      ]
     },
     "execution_count": 17,
     "metadata": {},
     "output_type": "execute_result"
    }
   ],
   "source": [
    "cnn.evaluate(X_test, y_test)"
   ]
  },
  {
   "cell_type": "code",
   "execution_count": 18,
   "id": "a76f4d87-ab43-4f22-8abc-70024b77fa4d",
   "metadata": {
    "ExecuteTime": {
     "end_time": "2025-05-06T11:55:01.298383Z",
     "start_time": "2025-05-06T11:54:59.705089Z"
    }
   },
   "outputs": [
    {
     "name": "stdout",
     "output_type": "stream",
     "text": [
      "\u001b[1m313/313\u001b[0m \u001b[32m━━━━━━━━━━━━━━━━━━━━\u001b[0m\u001b[37m\u001b[0m \u001b[1m1s\u001b[0m 2ms/step\n"
     ]
    },
    {
     "data": {
      "text/plain": [
       "array([[0.09731928, 0.07917365, 0.08129843, 0.12847203, 0.0801281 ,\n",
       "        0.10837168, 0.08711217, 0.1006777 , 0.12526077, 0.11218621],\n",
       "       [0.08740745, 0.07864016, 0.08106381, 0.12954338, 0.07311561,\n",
       "        0.10172044, 0.08788238, 0.09634871, 0.15033883, 0.11393922],\n",
       "       [0.08755776, 0.07917646, 0.0769985 , 0.1294846 , 0.08313817,\n",
       "        0.10921924, 0.09051421, 0.09415228, 0.1330751 , 0.11668375],\n",
       "       [0.09391581, 0.0803025 , 0.077203  , 0.13861814, 0.07557036,\n",
       "        0.1067204 , 0.08056244, 0.09389763, 0.1406775 , 0.11253215],\n",
       "       [0.09038008, 0.08348099, 0.0823788 , 0.12558234, 0.0801807 ,\n",
       "        0.10636207, 0.08424618, 0.100192  , 0.1323455 , 0.11485139]],\n",
       "      dtype=float32)"
      ]
     },
     "execution_count": 18,
     "metadata": {},
     "output_type": "execute_result"
    }
   ],
   "source": [
    "y_pred = cnn.predict(X_test)\n",
    "y_pred[:5]"
   ]
  },
  {
   "cell_type": "code",
   "execution_count": 19,
   "id": "454b4459-b8c6-483a-ac82-0c28e5803e74",
   "metadata": {
    "ExecuteTime": {
     "end_time": "2025-05-06T11:55:01.377198Z",
     "start_time": "2025-05-06T11:55:01.357808Z"
    }
   },
   "outputs": [
    {
     "data": {
      "text/plain": [
       "[3, 8, 8, 8, 8]"
      ]
     },
     "execution_count": 19,
     "metadata": {},
     "output_type": "execute_result"
    }
   ],
   "source": [
    "y_classes = [np.argmax(element) for element in y_pred]\n",
    "y_classes[:5]"
   ]
  },
  {
   "cell_type": "code",
   "execution_count": 20,
   "id": "0109c630-68b3-4913-9dfa-25fd835f3cb6",
   "metadata": {
    "ExecuteTime": {
     "end_time": "2025-05-06T11:55:01.553789Z",
     "start_time": "2025-05-06T11:55:01.453624Z"
    }
   },
   "outputs": [
    {
     "data": {
      "text/plain": [
       "'ship'"
      ]
     },
     "execution_count": 20,
     "metadata": {},
     "output_type": "execute_result"
    },
    {
     "data": {
      "image/png": "[encoded data removed]",
      "text/plain": [
       "<Figure size 1500x200 with 1 Axes>"
      ]
     },
     "metadata": {},
     "output_type": "display_data"
    }
   ],
   "source": [
    "\n",
    "plt_sample(X_test, y_test,3)\n",
    "\n",
    "classes[y_classes[3]]\n",
    "\n",
    "classes[y_classes[3]]\n"
   ]
  }
 ],
 "metadata": {
  "kernelspec": {
   "display_name": ".venv",
   "language": "python",
   "name": "python3"
  },
  "language_info": {
   "codemirror_mode": {
    "name": "ipython",
    "version": 3
   },
   "file_extension": ".py",
   "mimetype": "text/x-python",
   "name": "python",
   "nbconvert_exporter": "python",
   "pygments_lexer": "ipython3",
   "version": "3.10.18"
  }
 },
 "nbformat": 4,
 "nbformat_minor": 5
}
