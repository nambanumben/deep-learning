{
 "cells": [
  {
   "cell_type": "code",
   "execution_count": 85,
   "id": "2e30ccd4",
   "metadata": {},
   "outputs": [],
   "source": [
    "import numpy as np\n",
    "from sklearn.datasets import load_digits\n",
    "from sklearn.linear_model import LogisticRegression\n",
    "from sklearn.svm import SVC\n",
    "from sklearn.ensemble import RandomForestClassifier\n",
    "from sklearn.model_selection import train_test_split, KFold, StratifiedKFold, cross_val_score\n",
    "from sklearn.preprocessing import StandardScaler\n"
   ]
  },
  {
   "cell_type": "code",
   "execution_count": 86,
   "id": "f76369a4",
   "metadata": {},
   "outputs": [],
   "source": [
    "\n",
    "# Section: Loading Dataset \n",
    "digits = load_digits()\n"
   ]
  },
  {
   "cell_type": "code",
   "execution_count": 87,
   "id": "85e7fd26",
   "metadata": {},
   "outputs": [],
   "source": [
    "\n",
    "# Initial Model Training and Evaluation (Train/Test Split) \n",
    "X_train, X_test, y_train, y_test = train_test_split(digits.data, digits.target, test_size=0.3)\n"
   ]
  },
  {
   "cell_type": "code",
   "execution_count": 88,
   "id": "8635c06e",
   "metadata": {},
   "outputs": [
    {
     "name": "stdout",
     "output_type": "stream",
     "text": [
      "Logistic Regression Score: 0.9629629629629629\n"
     ]
    }
   ],
   "source": [
    "\n",
    "# Logistic Regression\n",
    "\n",
    "scaler = StandardScaler()\n",
    "X_train_scaled = scaler.fit_transform(X_train)\n",
    "X_test_scaled = scaler.transform(X_test)\n",
    "\n",
    "lr = LogisticRegression(max_iter=1000)\n",
    "lr.fit(X_train_scaled, y_train)\n",
    "lr_score = lr.score(X_test_scaled, y_test)\n",
    "print(f\"Logistic Regression Score: {lr_score}\")\n"
   ]
  },
  {
   "cell_type": "code",
   "execution_count": 89,
   "id": "d818fbcf",
   "metadata": {},
   "outputs": [
    {
     "name": "stdout",
     "output_type": "stream",
     "text": [
      "SVM Score: 0.9907407407407407\n"
     ]
    }
   ],
   "source": [
    "\n",
    "# SVM\n",
    "svm = SVC()\n",
    "svm.fit(X_train, y_train)\n",
    "svm_score = svm.score(X_test, y_test)\n",
    "print(f\"SVM Score: {svm_score}\")"
   ]
  },
  {
   "cell_type": "code",
   "execution_count": 90,
   "id": "cd16e526",
   "metadata": {},
   "outputs": [
    {
     "name": "stdout",
     "output_type": "stream",
     "text": [
      "Random Forest Score: 0.9685185185185186\n"
     ]
    }
   ],
   "source": [
    "\n",
    "\n",
    "# Random Forest\n",
    "rf = RandomForestClassifier(n_estimators=40)\n",
    "rf.fit(X_train, y_train)\n",
    "rf_score = rf.score(X_test, y_test)\n",
    "print(f\"Random Forest Score: {rf_score}\")\n"
   ]
  },
  {
   "cell_type": "code",
   "execution_count": 91,
   "id": "a37d53ef",
   "metadata": {},
   "outputs": [],
   "source": [
    "\n",
    "# K-Fold Cross-Validation \n",
    "kf = KFold(n_splits=3)\n",
    "\n",
    "def get_score(model, X_train, X_test, y_train, y_test):\n",
    "    model.fit(X_train, y_train)\n",
    "    return model.score(X_test, y_test)\n"
   ]
  },
  {
   "cell_type": "code",
   "execution_count": 92,
   "id": "cb2390fa",
   "metadata": {},
   "outputs": [
    {
     "name": "stdout",
     "output_type": "stream",
     "text": [
      "\n",
      "K-Fold Cross Validation Scores:\n",
      "Logistic Regression Scores: [0.9265442404006677, 0.9415692821368948, 0.9265442404006677]\n",
      "SVM Scores: [0.9666110183639399, 0.9816360601001669, 0.9549248747913188]\n",
      "Random Forest Scores: [0.9382303839732888, 0.9532554257095158, 0.9232053422370617]\n"
     ]
    }
   ],
   "source": [
    "\n",
    "# Scores with KFold\n",
    "scores_lr = []\n",
    "scores_svm = []\n",
    "scores_rf = []\n",
    "for train_index, test_index in kf.split(digits.data):\n",
    "    X_train, X_test, y_train, y_test = digits.data[train_index], digits.data[test_index], \\\n",
    "                                       digits.target[train_index], digits.target[test_index]\n",
    "    scaler = StandardScaler()\n",
    "    X_train_scaled = scaler.fit_transform(X_train)\n",
    "    X_test_scaled = scaler.transform(X_test)\n",
    "\n",
    "    scores_lr.append(get_score(LogisticRegression(max_iter=1000), X_train_scaled, X_test_scaled, y_train, y_test))\n",
    "    scores_svm.append(get_score(SVC(), X_train, X_test, y_train, y_test))\n",
    "    scores_rf.append(get_score(RandomForestClassifier(), X_train, X_test, y_train, y_test))\n",
    "\n",
    "print(\"\\nK-Fold Cross Validation Scores:\")\n",
    "print(f\"Logistic Regression Scores: {scores_lr}\")\n",
    "print(f\"SVM Scores: {scores_svm}\")\n",
    "print(f\"Random Forest Scores: {scores_rf}\")"
   ]
  },
  {
   "cell_type": "code",
   "execution_count": 93,
   "id": "a916037d",
   "metadata": {},
   "outputs": [
    {
     "data": {
      "text/plain": [
       "KFold(n_splits=3, random_state=None, shuffle=False)"
      ]
     },
     "execution_count": 93,
     "metadata": {},
     "output_type": "execute_result"
    }
   ],
   "source": [
    "kf = KFold(n_splits=3)\n",
    "kf"
   ]
  },
  {
   "cell_type": "code",
   "execution_count": 94,
   "id": "f0353b68",
   "metadata": {},
   "outputs": [
    {
     "name": "stdout",
     "output_type": "stream",
     "text": [
      "TRAIN: [4 5 6 7 8 9] TEST: [0 1 2 3]\n",
      "TRAIN: [0 1 2 3 7 8 9] TEST: [4 5 6]\n",
      "TRAIN: [0 1 2 3 4 5 6] TEST: [7 8 9]\n"
     ]
    }
   ],
   "source": [
    "for train_index, test_index in kf.split(range(10)):\n",
    "    print(\"TRAIN:\", train_index, \"TEST:\", test_index)"
   ]
  },
  {
   "cell_type": "code",
   "execution_count": 95,
   "id": "ff0f3b72",
   "metadata": {},
   "outputs": [],
   "source": [
    "def get_score(model, X_train, y_train, X_test, y_test):\n",
    "    model.fit(X_train, y_train)\n",
    "    return model.score(X_test, y_test)"
   ]
  },
  {
   "cell_type": "code",
   "execution_count": 96,
   "id": "dcb6fb2c",
   "metadata": {},
   "outputs": [
    {
     "data": {
      "text/plain": [
       "0.9148580968280468"
      ]
     },
     "execution_count": 96,
     "metadata": {},
     "output_type": "execute_result"
    }
   ],
   "source": [
    "get_score(LogisticRegression(max_iter=1000), X_train, y_train, X_test, y_test)"
   ]
  }
 ],
 "metadata": {
  "kernelspec": {
   "display_name": "deep-learning-py3.10",
   "language": "python",
   "name": "python3"
  },
  "language_info": {
   "codemirror_mode": {
    "name": "ipython",
    "version": 3
   },
   "file_extension": ".py",
   "mimetype": "text/x-python",
   "name": "python",
   "nbconvert_exporter": "python",
   "pygments_lexer": "ipython3",
   "version": "3.10.18"
  }
 },
 "nbformat": 4,
 "nbformat_minor": 5
}
